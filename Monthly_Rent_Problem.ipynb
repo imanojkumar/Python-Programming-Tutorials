{
  "nbformat": 4,
  "nbformat_minor": 0,
  "metadata": {
    "colab": {
      "name": "Monthly Rent Problem.ipynb",
      "provenance": [],
      "collapsed_sections": []
    },
    "kernelspec": {
      "name": "python3",
      "display_name": "Python 3"
    },
    "language_info": {
      "name": "python"
    }
  },
  "cells": [
    {
      "cell_type": "markdown",
      "metadata": {
        "id": "E_C7jYKhRXr1"
      },
      "source": [
        "# **Paying the rent**"
      ]
    },
    {
      "cell_type": "markdown",
      "metadata": {
        "id": "Ve7PiOFVRPtv"
      },
      "source": [
        "You are moving to a new city for an internship for a few months and have to rent a house for that purpose.\n",
        "\n",
        "You have to pay the full month's house rent even if you have lived for a few days for that month. i.e. if you start on 15th Jan and leave by 15th May, you still have to pay full rent for months of Jan and May too.\n",
        "\n",
        "Your task is to find the months that you have to pay rent for so that you can write post-dated cheques to your landlord.\n",
        "\n",
        "You will be given two dates as input and your task is to print all months between the dates including the months the dates are from.\n",
        "\n",
        "The input will contain the two dates in a list as follows: \n",
        "[2017,1,1, 2017,3,4] which corresponds to 1st Jan, 2017 and 4th March, 2017. \n",
        "\n",
        "This date is in the format(yyyy,mm,dd)\n",
        "\n",
        "The output should contain a list with names of months you have to pay the rent for (the list should be sorted chronologically based on months, i.e May should come before August).\n",
        "\n",
        "You can assume that there won't be more than 12 months between two dates."
      ]
    },
    {
      "cell_type": "code",
      "metadata": {
        "id": "mvNoKgwPSbwO"
      },
      "source": [
        "import datetime, time, ast, sys\n",
        "from dateutil.rrule import rrule, MONTHLY\n",
        "from datetime import datetime as dt"
      ],
      "execution_count": 13,
      "outputs": []
    },
    {
      "cell_type": "code",
      "metadata": {
        "colab": {
          "base_uri": "https://localhost:8080/"
        },
        "id": "4sQC7guiRKlw",
        "outputId": "b76e421a-783b-4a66-ca41-b8d353d6d93b"
      },
      "source": [
        "# input_str = sys.stdin.read()\n",
        "input_str = input()\n",
        "input_list = ast.literal_eval(input_str)\n",
        "dateStart=datetime.date(input_list[0],input_list[1],input_list[2])\n",
        "dateEnd=datetime.date(input_list[3],input_list[4],input_list[5])\n",
        "y1 = input_list[0]\n",
        "m1 = input_list[1]\n",
        "y2 = input_list[3]\n",
        "m2 = input_list[4]\n",
        "\n",
        "# provide the following as input:\n",
        "# [2017,8,2,2018,1,1]"
      ],
      "execution_count": 6,
      "outputs": [
        {
          "output_type": "stream",
          "text": [
            "[2017,8,2,2018,1,1]\n"
          ],
          "name": "stdout"
        }
      ]
    },
    {
      "cell_type": "code",
      "metadata": {
        "id": "CFQx0cazRm2D"
      },
      "source": [
        "if y1 > y2:\n",
        "    raise Error(\"first date after second\")\n",
        "elif y1 == y2:\n",
        "    if m1 == m2:\n",
        "        count = 0\n",
        "    elif m2 > m1:\n",
        "        count = m2 - m1\n",
        "    else:\n",
        "        raise Error(\"first date after second\")\n",
        "else:\n",
        "    count = (12 + m2) - m1\n",
        "    if count > 12:\n",
        "        raise Error(\"more than 12 month difference\")\n",
        "        \n",
        "count += 1  # inclusive of the same month"
      ],
      "execution_count": 14,
      "outputs": []
    },
    {
      "cell_type": "code",
      "metadata": {
        "colab": {
          "base_uri": "https://localhost:8080/"
        },
        "id": "vpj8IIrjSYu4",
        "outputId": "0b05fa3c-b4fb-4086-ad4f-c38c8ce58001"
      },
      "source": [
        "date_start = datetime.date(y1, m1, 1)\n",
        "months = [dt.strftime(\"%B\") for dt in rrule(MONTHLY, dtstart=date_start, count=count)]\n",
        "print(months)"
      ],
      "execution_count": 15,
      "outputs": [
        {
          "output_type": "stream",
          "text": [
            "['August', 'September', 'October', 'November', 'December', 'January']\n"
          ],
          "name": "stdout"
        }
      ]
    },
    {
      "cell_type": "code",
      "metadata": {
        "colab": {
          "base_uri": "https://localhost:8080/"
        },
        "id": "Vtfil1r2Ssie",
        "outputId": "994ffcf2-fe08-471d-a548-7d87a9054fb5"
      },
      "source": [
        "months_sorted = sorted(months, key=lambda m: dt.strptime(m, \"%B\"))\n",
        "print(months_sorted)"
      ],
      "execution_count": 16,
      "outputs": [
        {
          "output_type": "stream",
          "text": [
            "['January', 'August', 'September', 'October', 'November', 'December']\n"
          ],
          "name": "stdout"
        }
      ]
    },
    {
      "cell_type": "code",
      "metadata": {
        "id": "EwQE50EcUgH9"
      },
      "source": [
        ""
      ],
      "execution_count": null,
      "outputs": []
    }
  ]
}